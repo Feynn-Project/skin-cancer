{
 "cells": [
  {
   "cell_type": "code",
   "execution_count": 35,
   "id": "ada34c63",
   "metadata": {},
   "outputs": [],
   "source": [
    "import numpy as np\n",
    "import tensorflow as tf\n",
    "from tensorflow.keras.models import Sequential,load_model\n",
    "from tensorflow.keras.preprocessing.image import ImageDataGenerator\n",
    "from tensorflow.keras.layers import Conv2D,MaxPool2D,Dense,Flatten,Dropout"
   ]
  },
  {
   "cell_type": "code",
   "execution_count": 36,
   "id": "c36634da",
   "metadata": {},
   "outputs": [
    {
     "name": "stdout",
     "output_type": "stream",
     "text": [
      "Found 8000 images belonging to 7 classes.\n"
     ]
    }
   ],
   "source": [
    "train_datagen=ImageDataGenerator(\n",
    "    rescale=1./255,\n",
    "    shear_range=0.2,\n",
    "    zoom_range=0.2,\n",
    "    horizontal_flip=True)\n",
    "training_set=train_datagen.flow_from_directory(\n",
    "    \"Train\",\n",
    "    target_size=(64,64),\n",
    "    batch_size=32,\n",
    "    class_mode='categorical'\n",
    ")\n",
    "\n"
   ]
  },
  {
   "cell_type": "code",
   "execution_count": 37,
   "id": "32180fd6",
   "metadata": {},
   "outputs": [
    {
     "name": "stdout",
     "output_type": "stream",
     "text": [
      "Found 2015 images belonging to 7 classes.\n"
     ]
    }
   ],
   "source": [
    "test_datagen=ImageDataGenerator(rescale=1./255)\n",
    "test_set=test_datagen.flow_from_directory('validation',\n",
    "                                         target_size=(64,64),\n",
    "                                          batch_size=32,\n",
    "                                          class_mode=\"categorical\"\n",
    "                                         \n",
    "                                         )"
   ]
  },
  {
   "cell_type": "code",
   "execution_count": 38,
   "id": "9bcc8822",
   "metadata": {},
   "outputs": [],
   "source": [
    "model=Sequential()"
   ]
  },
  {
   "cell_type": "code",
   "execution_count": 39,
   "id": "6707136e",
   "metadata": {},
   "outputs": [],
   "source": [
    "model.add(Conv2D(filters=128,kernel_size=3,activation='relu',input_shape=[64,64,3]))\n",
    "model.add(MaxPool2D(pool_size=2,strides=2))"
   ]
  },
  {
   "cell_type": "code",
   "execution_count": 40,
   "id": "dbc4f8d3",
   "metadata": {},
   "outputs": [],
   "source": [
    "model.add(Conv2D(filters=256,kernel_size=3,activation='relu'))\n",
    "model.add(MaxPool2D(pool_size=2,strides=2))\n",
    "model.add(Conv2D(filters=512,kernel_size=3,activation='relu'))\n",
    "model.add(MaxPool2D(pool_size=2,strides=2))"
   ]
  },
  {
   "cell_type": "code",
   "execution_count": 41,
   "id": "cf3e7d65",
   "metadata": {},
   "outputs": [],
   "source": [
    "model.add(Dropout(0.5))\n",
    "model.add(Flatten())"
   ]
  },
  {
   "cell_type": "code",
   "execution_count": 42,
   "id": "0cb8cefc",
   "metadata": {},
   "outputs": [],
   "source": [
    "model.add(Dense(units=256,activation='relu'))\n",
    "model.add(Dense(units=128,activation='relu'))\n",
    "model.add(Dense(units=64,activation='relu'))\n",
    "model.add(Dense(units=7,activation='softmax'))"
   ]
  },
  {
   "cell_type": "code",
   "execution_count": 43,
   "id": "35f22451",
   "metadata": {},
   "outputs": [],
   "source": [
    "model.compile(optimizer='adam',loss='categorical_crossentropy',metrics=['accuracy'])"
   ]
  },
  {
   "cell_type": "code",
   "execution_count": 44,
   "id": "82462b17",
   "metadata": {},
   "outputs": [
    {
     "name": "stdout",
     "output_type": "stream",
     "text": [
      "Epoch 1/10\n",
      "250/250 [==============================] - 193s 766ms/step - loss: 1.0175 - accuracy: 0.6691 - val_loss: 0.9991 - val_accuracy: 0.6690\n",
      "Epoch 2/10\n",
      "250/250 [==============================] - 287s 1s/step - loss: 0.9628 - accuracy: 0.6730 - val_loss: 0.9567 - val_accuracy: 0.6739\n",
      "Epoch 3/10\n",
      "250/250 [==============================] - 312s 1s/step - loss: 0.9100 - accuracy: 0.6823 - val_loss: 0.9362 - val_accuracy: 0.6700\n",
      "Epoch 4/10\n",
      "250/250 [==============================] - 290s 1s/step - loss: 0.8793 - accuracy: 0.6846 - val_loss: 0.8485 - val_accuracy: 0.6893\n",
      "Epoch 5/10\n",
      "250/250 [==============================] - 313s 1s/step - loss: 0.8471 - accuracy: 0.6935 - val_loss: 0.8401 - val_accuracy: 0.7037\n",
      "Epoch 6/10\n",
      "250/250 [==============================] - 303s 1s/step - loss: 0.8234 - accuracy: 0.7017 - val_loss: 0.7856 - val_accuracy: 0.7107\n",
      "Epoch 7/10\n",
      "250/250 [==============================] - 301s 1s/step - loss: 0.7988 - accuracy: 0.7103 - val_loss: 0.7319 - val_accuracy: 0.7350\n",
      "Epoch 8/10\n",
      "250/250 [==============================] - 321s 1s/step - loss: 0.7667 - accuracy: 0.7174 - val_loss: 0.7305 - val_accuracy: 0.7459\n",
      "Epoch 9/10\n",
      "250/250 [==============================] - 308s 1s/step - loss: 0.7464 - accuracy: 0.7251 - val_loss: 0.7557 - val_accuracy: 0.7241\n",
      "Epoch 10/10\n",
      "250/250 [==============================] - 307s 1s/step - loss: 0.7346 - accuracy: 0.7321 - val_loss: 0.7163 - val_accuracy: 0.7350\n"
     ]
    },
    {
     "data": {
      "text/plain": [
       "<keras.callbacks.History at 0x1d4c8ba24f0>"
      ]
     },
     "execution_count": 44,
     "metadata": {},
     "output_type": "execute_result"
    }
   ],
   "source": [
    "model.fit(x=training_set,validation_data=test_set,epochs=10)"
   ]
  },
  {
   "cell_type": "code",
   "execution_count": 53,
   "id": "57e89f1d",
   "metadata": {},
   "outputs": [],
   "source": [
    "model.save(\"skin.h5\")"
   ]
  },
  {
   "cell_type": "code",
   "execution_count": 54,
   "id": "68d393cc",
   "metadata": {},
   "outputs": [],
   "source": [
    "model1=load_model(\"skin.h5\")"
   ]
  },
  {
   "cell_type": "code",
   "execution_count": 59,
   "id": "ffbab241",
   "metadata": {},
   "outputs": [
    {
     "name": "stdout",
     "output_type": "stream",
     "text": [
      "1/1 [==============================] - 0s 22ms/step\n"
     ]
    },
    {
     "data": {
      "text/plain": [
       "{'akiec': 0, 'bcc': 1, 'bkl': 2, 'df': 3, 'mel': 4, 'nv': 5, 'vasc': 6}"
      ]
     },
     "execution_count": 59,
     "metadata": {},
     "output_type": "execute_result"
    }
   ],
   "source": [
    "from tensorflow.keras.preprocessing import image\n",
    "test_image=image.load_img(\"E:/Jupyter/datatree/validation/mel/ISIC_0024351.jpg\",target_size=(64,64))\n",
    "test_image=image.img_to_array(test_image)\n",
    "test_image=np.expand_dims(test_image,axis=0)\n",
    "result=model.predict(test_image)\n",
    "training_set.class_indices"
   ]
  },
  {
   "cell_type": "code",
   "execution_count": 60,
   "id": "b210e158",
   "metadata": {},
   "outputs": [
    {
     "data": {
      "text/plain": [
       "array([[0., 0., 0., 0., 0., 1., 0.]], dtype=float32)"
      ]
     },
     "execution_count": 60,
     "metadata": {},
     "output_type": "execute_result"
    }
   ],
   "source": [
    "result"
   ]
  },
  {
   "cell_type": "code",
   "execution_count": 63,
   "id": "8a01953a",
   "metadata": {},
   "outputs": [
    {
     "name": "stdout",
     "output_type": "stream",
     "text": [
      " This an Nervus Pigmentosus\n"
     ]
    }
   ],
   "source": [
    "if result[0][0]==1:\n",
    "    print(\" This is an Actinic keratoses and intraepithelial carcinoma\")\n",
    "elif result[0][1]==1:\n",
    "    print(\"This is Basal cell carcinoma\")\n",
    "elif result[0][2]:\n",
    "    print(\" This is Benign lesions of the keratosis.\")\n",
    "elif result[0][3]==1:\n",
    "    print(\"This is an Dermatofibroma\")\n",
    "elif result[0][4]==1:\n",
    "    print(\" This is an melanoma\")\n",
    "elif result[0][5]==1:\n",
    "    print(\" This an Nervus Pigmentosus\")\n",
    "elif result[0][6]==1:\n",
    "    print(\" This is an vascular lesions\")"
   ]
  },
  {
   "cell_type": "code",
   "execution_count": null,
   "id": "b3ec00e1",
   "metadata": {},
   "outputs": [],
   "source": []
  }
 ],
 "metadata": {
  "kernelspec": {
   "display_name": "Python 3 (ipykernel)",
   "language": "python",
   "name": "python3"
  },
  "language_info": {
   "codemirror_mode": {
    "name": "ipython",
    "version": 3
   },
   "file_extension": ".py",
   "mimetype": "text/x-python",
   "name": "python",
   "nbconvert_exporter": "python",
   "pygments_lexer": "ipython3",
   "version": "3.9.12"
  }
 },
 "nbformat": 4,
 "nbformat_minor": 5
}
